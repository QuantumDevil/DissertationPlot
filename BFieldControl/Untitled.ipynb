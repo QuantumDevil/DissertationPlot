{
 "cells": [
  {
   "cell_type": "code",
   "execution_count": 3,
   "id": "cb87332f-7af1-4311-b12c-b0b2def0a4e4",
   "metadata": {},
   "outputs": [
    {
     "data": {
      "text/plain": [
       "'block_diagram.pdf'"
      ]
     },
     "execution_count": 3,
     "metadata": {},
     "output_type": "execute_result"
    }
   ],
   "source": [
    "from graphviz import Digraph\n",
    "\n",
    "# Create a directed graph\n",
    "dot = Digraph()\n",
    "\n",
    "# change node styling\n",
    "dot.graph_attr['rankdir'] = 'LR' \n",
    "dot.node_attr['fontname'] = 'Comic Sans MS'\n",
    "dot.edge_attr['fontname'] = 'Comic Sans MS'\n",
    "\n",
    "# Add nodes\n",
    "dot.attr(fontname='Comic Sans MS')\n",
    "dot.attr('node', shape = 'box')\n",
    "dot.attr('node', style = 'rounded')\n",
    "dot.node('A', 'Block A')\n",
    "dot.node('B', 'Block B')\n",
    "\n",
    "# Add edges\n",
    "dot.edge('A', 'B', label=\"Connection\")\n",
    "\n",
    "# Render the diagram\n",
    "dot.render('block_diagram', format='png', cleanup=True)\n",
    "dot.view()"
   ]
  },
  {
   "cell_type": "code",
   "execution_count": null,
   "id": "274bd988-5a3e-404c-9ff7-4c87c4c1cf3c",
   "metadata": {},
   "outputs": [],
   "source": [
    "print(dot.source)"
   ]
  },
  {
   "cell_type": "code",
   "execution_count": null,
   "id": "058da1cf-4c06-4a40-9185-a676688575bb",
   "metadata": {},
   "outputs": [],
   "source": []
  }
 ],
 "metadata": {
  "kernelspec": {
   "display_name": "Python 3 (ipykernel)",
   "language": "python",
   "name": "python3"
  },
  "language_info": {
   "codemirror_mode": {
    "name": "ipython",
    "version": 3
   },
   "file_extension": ".py",
   "mimetype": "text/x-python",
   "name": "python",
   "nbconvert_exporter": "python",
   "pygments_lexer": "ipython3",
   "version": "3.11.7"
  }
 },
 "nbformat": 4,
 "nbformat_minor": 5
}
